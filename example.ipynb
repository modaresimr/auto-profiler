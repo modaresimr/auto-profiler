{
 "cells": [
  {
   "cell_type": "markdown",
   "metadata": {},
   "source": [
    "# Auto Profiler \n"
   ]
  },
  {
   "cell_type": "markdown",
   "metadata": {},
   "source": [
    "## Example Code"
   ]
  },
  {
   "cell_type": "code",
   "execution_count": 1,
   "metadata": {
    "scrolled": false
   },
   "outputs": [],
   "source": [
    "import time # line number 1\n",
    "import random\n",
    "\n",
    "from auto_profiler import Profiler\n",
    "\n",
    "\n",
    "def f1():\n",
    "    mysleep(random.random())\n",
    "    mysleep(random.random())\n",
    "def f2():\n",
    "    mysleep(random.random())\n",
    "\n",
    "\n",
    "def mysleep(t):\n",
    "    time.sleep(t)\n",
    "\n",
    "\n",
    "def fact(i):\n",
    "    f1()\n",
    "    if(i==1):\n",
    "        return 1\n",
    "    f2()\n",
    "    return i*fact(i-1)\n",
    "\n",
    "\n",
    "def main():\n",
    "    for i in range(3):\n",
    "        f1()\n",
    "    fact(4)"
   ]
  },
  {
   "cell_type": "markdown",
   "metadata": {},
   "source": [
    "## Usage 1"
   ]
  },
  {
   "cell_type": "code",
   "execution_count": 2,
   "metadata": {},
   "outputs": [
    {
     "data": {
      "text/plain": [
       "'Time   [Hits × PerHit] Function name [Called from] [Function Location]'"
      ]
     },
     "metadata": {},
     "output_type": "display_data"
    },
    {
     "data": {
      "application/vnd.jupyter.widget-view+json": {
       "model_id": "e7debdff5e334e9c97e8f1b6fbc834d7",
       "version_major": 2,
       "version_minor": 0
      },
      "text/plain": [
       "Tree(nodes=(Node(name='root'),))"
      ]
     },
     "metadata": {},
     "output_type": "display_data"
    }
   ],
   "source": [
    "with Profiler():\n",
    "    main()"
   ]
  },
  {
   "cell_type": "markdown",
   "metadata": {},
   "source": [
    "## Usage 2"
   ]
  },
  {
   "cell_type": "code",
   "execution_count": null,
   "metadata": {},
   "outputs": [
    {
     "data": {
      "text/plain": [
       "'Time   [Hits × PerHit] Function name [Called from] [Function Location]'"
      ]
     },
     "metadata": {},
     "output_type": "display_data"
    },
    {
     "data": {
      "application/vnd.jupyter.widget-view+json": {
       "model_id": "3303b379dc9a4ce8ba2b250bf0e6748f",
       "version_major": 2,
       "version_minor": 0
      },
      "text/plain": [
       "Tree(nodes=(Node(name='root'),))"
      ]
     },
     "metadata": {},
     "output_type": "display_data"
    }
   ],
   "source": [
    "@Profiler(depth=10)\n",
    "def main():\n",
    "    for i in range(3):\n",
    "        f1()\n",
    "    fact(4)\n",
    "main()"
   ]
  },
  {
   "cell_type": "markdown",
   "metadata": {},
   "source": [
    "# Manual Timer\n",
    "Higher Performance because it does not need calcualte all functions call"
   ]
  },
  {
   "cell_type": "code",
   "execution_count": null,
   "metadata": {
    "scrolled": false
   },
   "outputs": [],
   "source": [
    "import time # line number 1\n",
    "import random\n",
    "\n",
    "from auto_profiler import Timer\n",
    "\n",
    "@Timer('f1')\n",
    "def f1():\n",
    "    mysleep(random.random())\n",
    "    mysleep(random.random())\n",
    "\n",
    "@Timer('mysleep')\n",
    "def mysleep(t):\n",
    "    time.sleep(t)\n",
    "\n",
    "@Timer('fact')\n",
    "def fact(i):\n",
    "    f1()\n",
    "    if(i==1):\n",
    "        return 1\n",
    "    return i*fact(i-1)\n",
    "\n",
    "\n",
    "\n",
    "def main():\n",
    "    for i in range(2):\n",
    "        f1()\n",
    "    with Timer('test'):\n",
    "        fact(3)\n",
    "\n",
    "\n",
    "main()"
   ]
  }
 ],
 "metadata": {
  "kernelspec": {
   "display_name": "Python 3",
   "language": "python",
   "name": "python3"
  },
  "language_info": {
   "codemirror_mode": {
    "name": "ipython",
    "version": 3
   },
   "file_extension": ".py",
   "mimetype": "text/x-python",
   "name": "python",
   "nbconvert_exporter": "python",
   "pygments_lexer": "ipython3",
   "version": "3.7.3"
  }
 },
 "nbformat": 4,
 "nbformat_minor": 2
}
