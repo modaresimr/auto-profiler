{
 "cells": [
  {
   "cell_type": "markdown",
   "metadata": {},
   "source": [
    "# Manual Timer\n"
   ]
  },
  {
   "cell_type": "code",
   "execution_count": 1,
   "metadata": {
    "scrolled": false
   },
   "outputs": [],
   "source": [
    "import time # line number 1\n",
    "import random\n",
    "\n",
    "from auto_profiler import Timer\n",
    "\n",
    "@Timer.auto_timer('f1')\n",
    "def f1():\n",
    "    mysleep(random.random())\n",
    "    mysleep(random.random())\n",
    "\n",
    "@Timer.auto_timer('mysleep')\n",
    "def mysleep(t):\n",
    "    time.sleep(t)\n",
    "\n",
    "@Timer.auto_timer('fact')\n",
    "def fact(i):\n",
    "    f1()\n",
    "    if(i==1):\n",
    "        return 1\n",
    "    return i*fact(i-1)\n",
    "\n",
    "\n",
    "\n",
    "def main():\n",
    "    for i in range(5):\n",
    "        f1()\n",
    "    with Timer.auto_timer('test'):\n",
    "        fact(3)\n",
    "\n",
    "\n",
    "main()"
   ]
  },
  {
   "cell_type": "markdown",
   "metadata": {},
   "source": [
    "# Auto Profiler \n",
    "Performance will be lower but easier"
   ]
  },
  {
   "cell_type": "code",
   "execution_count": 9,
   "metadata": {
    "scrolled": false
   },
   "outputs": [
    {
     "data": {
      "text/plain": [
       "'Time   [Hits * PerHit] Function name [Called from] [Function Location]'"
      ]
     },
     "metadata": {},
     "output_type": "display_data"
    },
    {
     "data": {
      "application/vnd.jupyter.widget-view+json": {
       "model_id": "60e56576fe1f4ae1a9139614b4e6d542",
       "version_major": 2,
       "version_minor": 0
      },
      "text/plain": [
       "Tree(nodes=(Node(name='root'),))"
      ]
     },
     "metadata": {},
     "output_type": "display_data"
    }
   ],
   "source": [
    "import time # line number 1\n",
    "import random\n",
    "\n",
    "from auto_profiler import Profiler\n",
    "\n",
    "\n",
    "def f1():\n",
    "    mysleep(random.random())\n",
    "    mysleep(random.random())\n",
    "def f2():\n",
    "    mysleep(random.random())\n",
    "\n",
    "\n",
    "def mysleep(t):\n",
    "    time.sleep(t)\n",
    "\n",
    "\n",
    "def fact(i):\n",
    "    f1()\n",
    "    if(i==1):\n",
    "        return 1\n",
    "    f2()\n",
    "    return i*fact(i-1)\n",
    "\n",
    "\n",
    "@Profiler(depth=10)\n",
    "def main():\n",
    "    for i in range(3):\n",
    "        f1()\n",
    "    fact(4)\n",
    "\n",
    "\n",
    "main()"
   ]
  },
  {
   "cell_type": "code",
   "execution_count": null,
   "metadata": {},
   "outputs": [],
   "source": [
    "\n",
    "\n",
    "\n",
    "\n",
    "\n",
    "\n",
    "\n",
    "\n",
    "\n",
    "\n",
    "\n",
    "\n",
    "\n",
    "\n",
    "\n",
    "\n",
    "\n"
   ]
  }
 ],
 "metadata": {
  "kernelspec": {
   "display_name": "Python 3",
   "language": "python",
   "name": "python3"
  },
  "language_info": {
   "codemirror_mode": {
    "name": "ipython",
    "version": 3
   },
   "file_extension": ".py",
   "mimetype": "text/x-python",
   "name": "python",
   "nbconvert_exporter": "python",
   "pygments_lexer": "ipython3",
   "version": "3.7.3"
  }
 },
 "nbformat": 4,
 "nbformat_minor": 2
}
